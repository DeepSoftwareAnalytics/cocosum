{
 "cells": [
  {
   "cell_type": "markdown",
   "metadata": {},
   "source": [
    "## Step 1 Preprocess"
   ]
  },
  {
   "cell_type": "markdown",
   "metadata": {},
   "source": [
    "### Original Data\n",
    "**AST** : ./csn_dataset/original/csn.pkl <br>\n",
    "**Code** : ./csn_dataset/orginal/code_tokens_javalang.pkl <br>\n",
    "**Summary** : ./csn_dataset/original/docstring_tokens_split.pkl <br>"
   ]
  },
  {
   "cell_type": "markdown",
   "metadata": {},
   "source": [
    "### Transfer pickle file to python2"
   ]
  },
  {
   "cell_type": "code",
   "execution_count": 2,
   "metadata": {},
   "outputs": [],
   "source": [
    "original_data = ['./csn_dataset/original/csn.pkl',\n",
    "                './csn_dataset/orginal/code_tokens_javalang.pkl',\n",
    "                './csn_dataset/original/docstring_tokens_split.pkl']\n",
    "tranfer_data = ['./csn_dataset/original/drl_csn.pkl',\n",
    "                './csn_dataset/original/code_tokens_javalang',\n",
    "                './csn_dataset/original/docstring_tokens.pkl']\n",
    "\n",
    "# Run here if need tranfer data\n",
    "# for i in range(3):\n",
    "#     data = pickle.load(open(original_data[i],'rb'))\n",
    "#     pickle.dump(data,open(tranfer_data[i], 'rb'), protocol=2)\n"
   ]
  },
  {
   "cell_type": "markdown",
   "metadata": {},
   "source": [
    "### Preprocess \n",
    "It cost about 12 hour and default set <br>\n",
    "code length is 100, <br>\n",
    "summary length is 10, <br>\n",
    "vocab size is 50000 <br>\n",
    "**log is ./csn_dataset/train_data0330/log.preprocess'**\n",
    "``` shell\n",
    "python run.py preprocess\n",
    "```\n"
   ]
  },
  {
   "cell_type": "code",
   "execution_count": 2,
   "metadata": {},
   "outputs": [],
   "source": [
    "import torch\n",
    "# output is a file with fid\n",
    "data_with_fid_path = './csn_dataset/train_data/processed.train.pt'\n",
    "data_with_fid =  torch.load(data_with_fid_path)"
   ]
  },
  {
   "cell_type": "code",
   "execution_count": 3,
   "metadata": {},
   "outputs": [
    {
     "data": {
      "text/plain": [
       "dict_keys(['train_xe', 'test', 'train_pg', 'valid', 'dicts'])"
      ]
     },
     "execution_count": 3,
     "metadata": {},
     "output_type": "execute_result"
    }
   ],
   "source": [
    "data_with_fid.keys()"
   ]
  },
  {
   "cell_type": "code",
   "execution_count": 12,
   "metadata": {},
   "outputs": [
    {
     "name": "stdout",
     "output_type": "stream",
     "text": [
      "dict_keys(['src', 'tgt', 'trees'])\n"
     ]
    }
   ],
   "source": [
    "print(data_with_fid['train_xe'][0].keys())\n"
   ]
  },
  {
   "cell_type": "code",
   "execution_count": 13,
   "metadata": {},
   "outputs": [
    {
     "name": "stdout",
     "output_type": "stream",
     "text": [
      "430585\n",
      "25432\n",
      "14436\n"
     ]
    }
   ],
   "source": [
    "print(len(data_with_fid['train_xe']))\n",
    "print(len(data_with_fid['test']))\n",
    "print(len(data_with_fid['valid']))"
   ]
  },
  {
   "cell_type": "markdown",
   "metadata": {},
   "source": [
    "### Filter leaf_count = 1\n",
    "filter_data is remove data which leaf_count = 1 and remove fid info ( it fit original train code) <br>\n",
    "verify data is verify filter data is right or not\n",
    "\n",
    "```shell\n",
    "python filter_data.py\n",
    "python verify_data.py\n",
    "```"
   ]
  },
  {
   "cell_type": "code",
   "execution_count": 8,
   "metadata": {},
   "outputs": [],
   "source": [
    "# filter data output \n",
    "filter_data_path = '/mnt/yuxuan/Code_summarization0330/csn_dataset/train_data0330/processed_filter.train.pt2'\n",
    "filter_data = torch.load(filter_data_path)"
   ]
  },
  {
   "cell_type": "code",
   "execution_count": 9,
   "metadata": {},
   "outputs": [
    {
     "data": {
      "text/plain": [
       "dict_keys(['train_xe', 'test', 'train_pg', 'valid', 'dicts'])"
      ]
     },
     "execution_count": 9,
     "metadata": {},
     "output_type": "execute_result"
    }
   ],
   "source": [
    "filter_data.keys()"
   ]
  },
  {
   "cell_type": "code",
   "execution_count": 11,
   "metadata": {},
   "outputs": [
    {
     "data": {
      "text/plain": [
       "dict_keys(['src', 'trees', 'tgt'])"
      ]
     },
     "execution_count": 11,
     "metadata": {},
     "output_type": "execute_result"
    }
   ],
   "source": [
    "filter_data['train_xe'].keys()"
   ]
  },
  {
   "cell_type": "code",
   "execution_count": 14,
   "metadata": {},
   "outputs": [
    {
     "name": "stdout",
     "output_type": "stream",
     "text": [
      "430581\n",
      "25431\n",
      "14423\n"
     ]
    }
   ],
   "source": [
    "print(len(filter_data['train_xe']['src']))\n",
    "print(len(filter_data['test']['src']))\n",
    "print(len(filter_data['valid']['src']))"
   ]
  },
  {
   "cell_type": "markdown",
   "metadata": {},
   "source": [
    "## Step 2 Train model"
   ]
  },
  {
   "cell_type": "markdown",
   "metadata": {},
   "source": [
    "### parameter set\n",
    "**different with original** <br>\n",
    "rnn_size : 512 -> 256 <br>\n",
    "word_vec_size : 512 -> 256 <br>\n",
    "batch_size : 64 -> 256 <br>\n",
    "\n",
    "**Other parameter set** <br>\n",
    "a2c-train.py get_opt()"
   ]
  },
  {
   "cell_type": "markdown",
   "metadata": {},
   "source": [
    "### Train\n",
    "```\n",
    "python run.py train_a2c 4 10 3 hybrid 1 0\n",
    "```"
   ]
  },
  {
   "cell_type": "markdown",
   "metadata": {},
   "source": [
    "### Explore tree length"
   ]
  },
  {
   "cell_type": "markdown",
   "metadata": {},
   "source": [
    "#### build_test_data\n",
    "output is ./csn_dataset/test_diff_tree_depth\n",
    "```\n",
    "python build_test_tree_depth.py\n",
    "```"
   ]
  },
  {
   "cell_type": "markdown",
   "metadata": {},
   "source": [
    "#### train test\n",
    "output is ./csn_dataset/test_diff_tree_depth_out\n",
    "```\n",
    "python run.py test_tree_depth 3 5 1 hybrid 1 0\n",
    "```"
   ]
  },
  {
   "cell_type": "markdown",
   "metadata": {},
   "source": [
    "### Other detail\n",
    "Other datail is shown on explore\\ tree\\ depth.ipynb"
   ]
  },
  {
   "cell_type": "markdown",
   "metadata": {},
   "source": [
    "## 3. Result"
   ]
  },
  {
   "cell_type": "markdown",
   "metadata": {},
   "source": [
    "### log dir\n",
    "log is saved on \n",
    "\n",
    "./csn_dataset/train_data_out/log.a2c-train_%s_%s_%s_%s_%s_g%s_model <br>\n",
    "The mean of about %s is: <br>\n",
    "start_reinforce, end_epoch, critic_pretrain_epochs, data_type, has_attn, gpus"
   ]
  },
  {
   "cell_type": "markdown",
   "metadata": {},
   "source": [
    "### diff epoch set\n",
    "There have three part of model<br>\n",
    "1. actor\n",
    "2. critic\n",
    "3. reinforce\n",
    "\n",
    "CU02: 3 3 4 <br>\n",
    "MSRA57: 6 6 6 <br>\n",
    "Azure157: 10 10 10 <br>"
   ]
  },
  {
   "cell_type": "code",
   "execution_count": null,
   "metadata": {},
   "outputs": [],
   "source": []
  }
 ],
 "metadata": {
  "kernelspec": {
   "display_name": "Python 3",
   "language": "python",
   "name": "python3"
  },
  "language_info": {
   "codemirror_mode": {
    "name": "ipython",
    "version": 3
   },
   "file_extension": ".py",
   "mimetype": "text/x-python",
   "name": "python",
   "nbconvert_exporter": "python",
   "pygments_lexer": "ipython3",
   "version": "3.7.6"
  }
 },
 "nbformat": 4,
 "nbformat_minor": 4
}
