{
 "cells": [
  {
   "cell_type": "markdown",
   "metadata": {
    "collapsed": true
   },
   "source": [
    "## Data Exploration"
   ]
  },
  {
   "cell_type": "markdown",
   "metadata": {},
   "source": [
    "This notebook takes takes the mini dataset for example to explore the processed data\n",
    "\n",
    "Our data contains two parts\n",
    "* Global information: UML\n",
    "* Other inforamtion: Code token, AST, Summary"
   ]
  },
  {
   "cell_type": "markdown",
   "metadata": {},
   "source": [
    "### Global information: UML"
   ]
  },
  {
   "cell_type": "code",
   "execution_count": 1,
   "metadata": {
    "ExecuteTime": {
     "end_time": "2021-11-29T12:16:06.861773Z",
     "start_time": "2021-11-29T12:16:06.843784Z"
    }
   },
   "outputs": [],
   "source": [
    "import pickle\n",
    "filename = \"csn_mini_data/umldata/SBT_jsonl/train/umls.pkl\"\n",
    "uml = pickle.load(open(filename,\"rb\"))"
   ]
  },
  {
   "cell_type": "markdown",
   "metadata": {},
   "source": [
    "In this paper, we extract the four most common types of relationships expressed by\n",
    "a UML class diagram: generalization, realization, dependency, and association."
   ]
  },
  {
   "cell_type": "code",
   "execution_count": 2,
   "metadata": {
    "ExecuteTime": {
     "end_time": "2021-11-29T12:16:25.141986Z",
     "start_time": "2021-11-29T12:16:25.130001Z"
    }
   },
   "outputs": [],
   "source": [
    "REL_MAP = {\n",
    "    \"DEPEND\":\"dependency\",\n",
    "    \"NAVASSOC\": \"association\",\n",
    "    \"ASSOC\": \"association\",\n",
    "    \"IMPLEMENTS\": \"realization\",\n",
    "    \"EXTENDS\": \"generalization\",\n",
    "    \"COMPOSED\": \"association\",\n",
    "    \"NAVCOMPOSED\": \"association\"\n",
    "}"
   ]
  },
  {
   "cell_type": "code",
   "execution_count": 3,
   "metadata": {
    "ExecuteTime": {
     "end_time": "2021-11-29T12:16:29.813130Z",
     "start_time": "2021-11-29T12:16:29.784133Z"
    }
   },
   "outputs": [
    {
     "name": "stdout",
     "output_type": "stream",
     "text": [
      "********************************************************************************\n",
      "**number_of_nodes**: 12 \n",
      "********************************************************************************\n",
      "**nodes**: ['c0', 'c1', 'c2', 'c3', 'c4', 'c5', 'c6', 'c7', 'c8', 'c9', 'c10', 'c11'] \n",
      "********************************************************************************\n",
      "**nodes_information**:\n",
      " c0:{'name': 'CharEscaperBuilder', 'type': 'concrete'}\n",
      " c1:{'name': 'CharArrayDecorator', 'type': 'concrete'}\n",
      " c2:{'name': 'Platform', 'type': 'concrete'}\n",
      " c3:{'name': 'ArrayBasedEscaperMap', 'type': 'concrete'}\n",
      " c4:{'name': 'ArrayBasedCharEscaper', 'type': 'concrete'}\n",
      " c5:{'name': 'CharEscaper', 'type': 'concrete'}\n",
      " c6:{'name': 'UnicodeEscaper', 'type': 'concrete'}\n",
      " c7:{'name': 'ArrayBasedUnicodeEscaper', 'type': 'concrete'}\n",
      " c8:{'name': 'Escaper', 'type': 'concrete'}\n",
      " c9:{'name': 'Escapers', 'type': 'concrete'}\n",
      " c10:{'name': 'Builder', 'type': 'concrete'}\n",
      " c11:{'name': 'Function<F, T>', 'type': 'concrete'}\n",
      "********************************************************************************\n",
      "**edges**: ['c0', 'c1', 'c2', 'c3', 'c4', 'c5', 'c6', 'c7', 'c8', 'c9', 'c10', 'c11'] \n",
      "********************************************************************************\n",
      "**number_of_edges**: 13 \n",
      "********************************************************************************\n",
      "**edge_information**\n",
      "(c5,c1): generalization\n",
      "(c5,c4): generalization\n",
      "(c5,c8): generalization\n",
      "(c5,c9): dependency\n",
      "(c8,c6): generalization\n",
      "(c8,c11): association\n",
      "(c8,c11): dependency\n",
      "(c8,c0): dependency\n",
      "(c8,c9): dependency\n",
      "(c8,c10): dependency\n",
      "(c6,c7): generalization\n",
      "(c6,c9): dependency\n",
      "(c9,c10): dependency\n",
      "********************************************************************************\n"
     ]
    }
   ],
   "source": [
    "print(80*\"*\")\n",
    "print(\"**number_of_nodes**: %s \"%uml[454451]['number_of_nodes'])\n",
    "print(80*\"*\")\n",
    "print(\"**nodes**: %s \"%uml[454451]['nodes'])\n",
    "print(80*\"*\")\n",
    "print('**nodes_information**:')\n",
    "for key, value in uml[454451]['nodes_information'].items():\n",
    "    print(\" %s:%s\"%( key, value['class_declaration']))\n",
    "print(80*\"*\")\n",
    "print(\"**edges**: %s \"%uml[454451]['nodes'])\n",
    "print(80*\"*\")\n",
    "print(\"**number_of_edges**: %s \"%uml[454451]['number_of_edges'])\n",
    "print(80*\"*\")\n",
    "print(\"**edge_information**\")\n",
    "for item in uml[454451]['edge_information']:\n",
    "    print(\"(%s,%s): %s\"%( item[0], item[1],REL_MAP[item[2]['relationtype']] ))\n",
    "print(80*\"*\")"
   ]
  },
  {
   "cell_type": "markdown",
   "metadata": {},
   "source": [
    "### Other inforamtion: Code token, AST, Summary"
   ]
  },
  {
   "cell_type": "code",
   "execution_count": 4,
   "metadata": {
    "ExecuteTime": {
     "end_time": "2021-11-29T12:16:38.439167Z",
     "start_time": "2021-11-29T12:16:38.429144Z"
    }
   },
   "outputs": [],
   "source": [
    "import pickle"
   ]
  },
  {
   "cell_type": "code",
   "execution_count": 5,
   "metadata": {
    "ExecuteTime": {
     "end_time": "2021-11-29T12:16:38.666536Z",
     "start_time": "2021-11-29T12:16:38.648420Z"
    }
   },
   "outputs": [],
   "source": [
    "filename = \"csn_mini_data/dlen100_clen12_slen435_dvoc10000_cvoc10000_svoc10000_dataset.pkl\"\n",
    "processed_dataset = pickle.load(open(filename,\"rb\"))"
   ]
  },
  {
   "cell_type": "code",
   "execution_count": 6,
   "metadata": {
    "ExecuteTime": {
     "end_time": "2021-11-29T12:16:39.122074Z",
     "start_time": "2021-11-29T12:16:39.113072Z"
    }
   },
   "outputs": [
    {
     "data": {
      "text/plain": [
       "dict_keys(['ctrain', 'cval', 'ctest', 'dtrain', 'dval', 'dtest', 'strain', 'sval', 'stest', 'comstok', 'datstok', 'smlstok', 'config', 'm2utrain', 'm2uval', 'm2utest', 'm2ctrain', 'm2cval', 'm2ctest'])"
      ]
     },
     "execution_count": 6,
     "metadata": {},
     "output_type": "execute_result"
    }
   ],
   "source": [
    "processed_dataset.keys()"
   ]
  },
  {
   "cell_type": "markdown",
   "metadata": {},
   "source": [
    "The processed dataset catains 3 groups's information"
   ]
  },
  {
   "cell_type": "markdown",
   "metadata": {},
   "source": [
    "Group1 \n",
    "* 'ctrain', 'cval', 'ctest': The summaries of train\\validation\\test.\n",
    "* 'dtrain', 'dval', 'dtest': The code tokens of train\\validation\\test.\n",
    "* 'strain', 'sval', 'stest': The flatten ASTs, which is traversed by the structure-based traversal (SBT) method, of\\validation\\test."
   ]
  },
  {
   "cell_type": "code",
   "execution_count": 7,
   "metadata": {
    "ExecuteTime": {
     "end_time": "2021-11-29T12:17:49.752891Z",
     "start_time": "2021-11-29T12:17:49.737897Z"
    }
   },
   "outputs": [
    {
     "name": "stdout",
     "output_type": "stream",
     "text": [
      "********************************************************************************\n",
      "**The idx sequence of one summary**: [1, 3, 8, 9, 10, 25, 11, 26, 27, 28, 12, 3]\n",
      "********************************************************************************\n",
      "**The idx sequence of one  code tokens**: [32, 33, 34, 45, 26, 1, 45, 10, 2, 4, 56, 57, 58, 1, 10, 2, 3, 59, 1, 19, 20, 8, 60, 3, 20, 9, 10, 11, 1, 2, 3, 20, 46, 2, 4, 12, 6, 8, 10, 12, 47, 1, 20, 2, 3, 13, 1, 1, 6, 9, 14, 35, 36, 14, 21, 6, 22, 37, 27, 2, 28, 6, 38, 15, 39, 23, 28, 6, 9, 15, 40, 23, 2, 4, 7, 26, 61, 1, 10, 41, 20, 2, 3, 5, 5, 7, 10, 3, 5, 0, 0, 0, 0, 0, 0, 0, 0, 0, 0, 0]\n",
      "********************************************************************************\n",
      "**The idx sequence of one flatten ASTs**: [1, 19, 1, 20, 1, 24, 1, 3, 2, 46, 2, 24, 1, 25, 2, 47, 1, 25, 2, 48, 1, 6, 1, 3, 2, 54, 2, 6, 1, 3, 2, 55, 1, 21, 1, 17, 1, 9, 1, 6, 1, 3, 2, 54, 2, 6, 1, 3, 2, 29, 2, 9, 2, 17, 2, 21, 1, 8, 1, 30, 1, 4, 1, 7, 1, 3, 2, 83, 1, 10, 1, 11, 1, 4, 1, 3, 2, 29, 2, 4, 2, 11, 2, 10, 2, 7, 2, 4, 2, 30, 1, 56, 2, 56, 1, 57, 1, 58, 1, 12, 1, 9, 1, 6, 1, 3, 2, 33, 2, 6, 1, 3, 2, 34, 1, 12, 1, 4, 1, 35, 2, 84, 2, 4, 2, 12, 2, 9, 2, 12, 1, 13, 1, 4, 1, 3, 2, 34, 1, 5, 2, 28, 1, 7, 1, 3, 1, 3, 2, 29, 1, 5, 2, 23, 1, 3, 2, 59, 2, 3, 1, 10, 2, 26, 2, 7, 2, 4, 2, 13, 1, 60, 1, 4, 1, 3, 2, 34, 1, 5, 2, 61, 2, 4, 2, 60, 2, 58, 1, 8, 1, 15, 1, 9, 1, 6, 1, 3, 2, 37, 2, 6, 1, 3, 2, 22, 1, 12, 1, 4, 1, 7, 1, 3, 1, 3, 2, 29, 1, 5, 2, 23, 1, 3, 2, 62, 2, 3, 1, 10, 1, 11, 1, 4, 1, 3, 2, 34, 2, 4, 2, 11, 2, 10, 2, 7, 2, 4, 2, 12, 2, 9, 2, 15, 1, 18, 1, 13, 1, 4, 1, 5, 2, 38, 1, 3, 2, 22, 1, 5, 2, 28, 1, 3, 2, 49, 1, 5, 2, 50, 1, 3, 1, 3, 2, 51, 1, 27, 1, 4, 1, 3, 2, 22, 2, 4, 2, 27, 2, 3, 1, 5, 2, 52, 1, 35, 2, 39, 1, 5, 2, 40, 1, 5, 2, 41, 1, 3, 2, 22, 1, 5, 2, 63, 1, 3, 2, 64, 1, 5, 2, 41, 1, 3, 2, 22, 1, 5, 2, 28, 1, 3, 2, 65, 2, 4, 2, 13, 1, 16, 1, 8, 1, 14, 1, 4, 1, 7, 1, 3, 2, 85, 1, 10, 1, 11, 1, 4, 1, 3, 2, 29, 2, 4, 2, 11, 1, 11, 1, 4, 1, 3, 2, 34, 2, 4, 2, 11, 2, 10, 2, 7, 2, 4, 2, 14, 2, 8, 2, 16, 2, 18, 2, 8, 2, 57, 1, 14, 1, 4, 1, 3, 2, 29, 2, 4, 2, 14, 2, 8, 2, 20, 2, 19, 0, 0, 0, 0, 0, 0, 0, 0, 0, 0, 0]\n",
      "********************************************************************************\n"
     ]
    }
   ],
   "source": [
    "fid = list(processed_dataset[\"ctrain\"])[0]\n",
    "print(80*\"*\")\n",
    "print(\"**The idx sequence of one summary**: %s\"%processed_dataset[\"ctrain\"][fid ])\n",
    "print(80*\"*\")\n",
    "print(\"**The idx sequence of one  code tokens**: %s\"%processed_dataset[\"dtrain\"][fid ])\n",
    "print(80*\"*\")\n",
    "print(\"**The idx sequence of one flatten ASTs**: %s\"%processed_dataset[\"strain\"][fid ])\n",
    "print(80*\"*\")"
   ]
  },
  {
   "cell_type": "markdown",
   "metadata": {},
   "source": [
    "Group 2\n",
    "* 'comstok' contains the frequence and vocabulary  of the summary tokens.\n",
    "* 'datstok'contains the frequence and vocabulary  of the code tokens.\n",
    "* 'smlstok' contains the frequence and vocabulary  of the ast tokens."
   ]
  },
  {
   "cell_type": "code",
   "execution_count": 8,
   "metadata": {
    "ExecuteTime": {
     "end_time": "2021-11-29T12:17:53.793974Z",
     "start_time": "2021-11-29T12:17:53.776664Z"
    }
   },
   "outputs": [
    {
     "name": "stdout",
     "output_type": "stream",
     "text": [
      "** The i2w of the summaries** {0: '<NULL>', 1: '<s>', 2: '</s>', 3: 'this', 4: 'the', 5: 'a', 6: 'and', 7: 'if', 8: 'is', 9: 'overridden', 10: 'to', 11: 'performance', 12: 'that', 13: 'not', 14: 'replacement', 15: 'safe', 16: 'range', 17: 'an', 18: 'for', 19: 'new', 20: 'link', 21: 'reader', 22: 'source', 23: 'returns', 24: 'length', 25: 'improve', 26: 'rough', 27: 'benchmarking', 28: 'shows', 29: 'almost', 30: 'doubles', 31: 'speed', 32: 'when', 33: 'processing', 34: 'strings', 35: 'do', 36: 'require', 37: 'any', 38: 'escaping', 39: 'escapes', 40: 'single', 41: 'unicode', 42: 'code', 43: 'point', 44: 'using', 45: 'array', 46: 'values', 47: 'given', 48: 'character', 49: 'does', 50: 'have', 51: 'explicit', 52: 'lies', 53: 'outside', 54: 'then', 55: 'opens', 56: 'buffered', 57: 'reading', 58: 'from', 59: 'method', 60: 'independent', 61: 'each', 62: 'time', 63: 'it', 64: 'called', 65: 'of', 66: 'in', 67: 'chars', 68: 'even', 69: 'doing', 70: 'so', 71: 'requires', 72: 'opening', 73: 'traversing', 74: 'entire', 75: 'stream', 76: 'avoid', 77: 'potentially', 78: 'expensive', 79: 'operation', 80: 'see', 81: 'known', 82: '<UNK>'}\n",
      "********************************************************************************\n",
      "** The w2i of the summaries**  {'<NULL>': 0, '<s>': 1, '</s>': 2, 'this': 3, 'the': 4, 'a': 5, 'and': 6, 'if': 7, 'is': 8, 'overridden': 9, 'to': 10, 'performance': 11, 'that': 12, 'not': 13, 'replacement': 14, 'safe': 15, 'range': 16, 'an': 17, 'for': 18, 'new': 19, 'link': 20, 'reader': 21, 'source': 22, 'returns': 23, 'length': 24, 'improve': 25, 'rough': 26, 'benchmarking': 27, 'shows': 28, 'almost': 29, 'doubles': 30, 'speed': 31, 'when': 32, 'processing': 33, 'strings': 34, 'do': 35, 'require': 36, 'any': 37, 'escaping': 38, 'escapes': 39, 'single': 40, 'unicode': 41, 'code': 42, 'point': 43, 'using': 44, 'array': 45, 'values': 46, 'given': 47, 'character': 48, 'does': 49, 'have': 50, 'explicit': 51, 'lies': 52, 'outside': 53, 'then': 54, 'opens': 55, 'buffered': 56, 'reading': 57, 'from': 58, 'method': 59, 'independent': 60, 'each': 61, 'time': 62, 'it': 63, 'called': 64, 'of': 65, 'in': 66, 'chars': 67, 'even': 68, 'doing': 69, 'so': 70, 'requires': 71, 'opening': 72, 'traversing': 73, 'entire': 74, 'stream': 75, 'avoid': 76, 'potentially': 77, 'expensive': 78, 'operation': 79, 'see': 80, 'known': 81, '<UNK>': 82}\n",
      "****************************************************************************************************\n",
      "** The word count of the summaries**  {'this': 5, 'the': 5, 'a': 4, 'and': 3, 'if': 3, 'is': 2, 'overridden': 2, 'to': 2, 'performance': 2, 'that': 2, 'not': 2, 'replacement': 2, 'safe': 2, 'range': 2, 'an': 2, 'for': 2, 'new': 2, 'link': 2, 'reader': 2, 'source': 2, 'returns': 2, 'length': 2, 'improve': 1, 'rough': 1, 'benchmarking': 1, 'shows': 1, 'almost': 1, 'doubles': 1, 'speed': 1, 'when': 1, 'processing': 1, 'strings': 1, 'do': 1, 'require': 1, 'any': 1, 'escaping': 1, 'escapes': 1, 'single': 1, 'unicode': 1, 'code': 1, 'point': 1, 'using': 1, 'array': 1, 'values': 1, 'given': 1, 'character': 1, 'does': 1, 'have': 1, 'explicit': 1, 'lies': 1, 'outside': 1, 'then': 1, 'opens': 1, 'buffered': 1, 'reading': 1, 'from': 1, 'method': 1, 'independent': 1, 'each': 1, 'time': 1, 'it': 1, 'called': 1, 'of': 1, 'in': 1, 'chars': 1, 'even': 1, 'doing': 1, 'so': 1, 'requires': 1, 'opening': 1, 'traversing': 1, 'entire': 1, 'stream': 1, 'avoid': 1, 'potentially': 1, 'expensive': 1, 'operation': 1, 'see': 1, 'known': 1}\n",
      "********************************************************************************\n"
     ]
    }
   ],
   "source": [
    "print(\"** The i2w of the summaries**\", processed_dataset['comstok'][\"i2w\"])\n",
    "print(80*\"*\")\n",
    "print(\"** The w2i of the summaries** \",processed_dataset['comstok'][\"w2i\"])\n",
    "print(100*\"*\")\n",
    "print(\"** The word count of the summaries** \",processed_dataset['comstok']['word_count'])\n",
    "print(80*\"*\")"
   ]
  },
  {
   "cell_type": "markdown",
   "metadata": {},
   "source": [
    "We can get the original summary, code and flatten ast by:"
   ]
  },
  {
   "cell_type": "code",
   "execution_count": 13,
   "metadata": {
    "ExecuteTime": {
     "end_time": "2021-11-29T12:25:13.558647Z",
     "start_time": "2021-11-29T12:25:13.552637Z"
    }
   },
   "outputs": [
    {
     "name": "stdout",
     "output_type": "stream",
     "text": [
      "********************************************************************************\n",
      "The idx of one summary: [1, 55, 5, 19, 20, 56, 21, 18, 57, 58, 3, 22] \n",
      "********************************************************************************\n",
      "<s> The text of one summary:opens The text of one summary:a The text of one summary:new The text of one summary:link The text of one summary:buffered The text of one summary:reader The text of one summary:for The text of one summary:reading The text of one summary:from The text of one summary:this The text of one summary:source\n",
      "********************************************************************************\n"
     ]
    }
   ],
   "source": [
    "fid = list(processed_dataset[\"ctrain\"])[3]\n",
    "i2w = processed_dataset['comstok'][\"i2w\"]\n",
    "idxs = processed_dataset[\"ctrain\"][fid ]\n",
    "print(80*\"*\")\n",
    "print(\"The idx of one summary: %s \"%idxs )\n",
    "text = [i2w[idx] for idx in idxs ]\n",
    "print(80*\"*\")\n",
    "print(\" The text of one summary:\".join(text ))\n",
    "print(80*\"*\")"
   ]
  },
  {
   "cell_type": "markdown",
   "metadata": {},
   "source": [
    "Group 3\n",
    "* 'm2utrain', 'm2uval', 'm2utest': The types of them are dict and record the correspondence between methods and classes. The key is the method fid and the value is the class fid\n",
    "* 'm2ctrain','m2cval', 'm2ctest':  The types of them are dict and record the correspondence between methods and UMLs. The key is the method fid and the value is the UML fid"
   ]
  },
  {
   "cell_type": "code",
   "execution_count": 12,
   "metadata": {
    "ExecuteTime": {
     "end_time": "2021-11-29T12:19:44.372896Z",
     "start_time": "2021-11-29T12:19:44.367894Z"
    }
   },
   "outputs": [
    {
     "name": "stdout",
     "output_type": "stream",
     "text": [
      "********************************************************************************\n",
      "m2ctrain: {454451: 7, 454452: 7, 454453: 7, 454454: 22, 454455: 22} \n",
      "********************************************************************************\n",
      "m2utrain: {454451: 454451, 454452: 454451, 454453: 454451, 454454: 454454, 454455: 454454} \n",
      "********************************************************************************\n"
     ]
    }
   ],
   "source": [
    "print(80*\"*\")\n",
    "print(\"m2ctrain: %s \"%(processed_dataset[\"m2ctrain\"]))\n",
    "print(80*\"*\")\n",
    "print(\"m2utrain: %s \"%(processed_dataset[\"m2utrain\"]))\n",
    "print(80*\"*\")"
   ]
  },
  {
   "cell_type": "code",
   "execution_count": null,
   "metadata": {},
   "outputs": [],
   "source": []
  }
 ],
 "metadata": {
  "kernelspec": {
   "display_name": "Python 3",
   "language": "python",
   "name": "python3"
  },
  "language_info": {
   "codemirror_mode": {
    "name": "ipython",
    "version": 3
   },
   "file_extension": ".py",
   "mimetype": "text/x-python",
   "name": "python",
   "nbconvert_exporter": "python",
   "pygments_lexer": "ipython3",
   "version": "3.8.3"
  },
  "pycharm": {
   "stem_cell": {
    "cell_type": "raw",
    "metadata": {
     "collapsed": false
    },
    "source": []
   }
  },
  "toc": {
   "base_numbering": 1,
   "nav_menu": {},
   "number_sections": true,
   "sideBar": true,
   "skip_h1_title": false,
   "title_cell": "Table of Contents",
   "title_sidebar": "Contents",
   "toc_cell": false,
   "toc_position": {
    "height": "calc(100% - 180px)",
    "left": "10px",
    "top": "150px",
    "width": "384px"
   },
   "toc_section_display": true,
   "toc_window_display": true
  }
 },
 "nbformat": 4,
 "nbformat_minor": 1
}
