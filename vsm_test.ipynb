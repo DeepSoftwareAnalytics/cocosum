{
 "cells": [
  {
   "cell_type": "code",
   "execution_count": 63,
   "metadata": {},
   "outputs": [],
   "source": [
    "from spiral import ronin\n",
    "import json\n",
    "import re\n",
    "from gensim import corpora, similarities, models\n",
    "import pickle"
   ]
  },
  {
   "cell_type": "code",
   "execution_count": 64,
   "metadata": {},
   "outputs": [],
   "source": [
    "def build_dictionary(data):\n",
    "    corpora_sen = []\n",
    "    for idx in data.keys():\n",
    "        corpora_sen.append(data[idx]['code_tokens_split'])\n",
    "    dictionary = corpora.Dictionary(corpora_sen)\n",
    "    return dictionary\n",
    "\n",
    "def build_corpus(data, dictionary):\n",
    "    corpus = []\n",
    "    for idx in data.keys():\n",
    "        temp = dictionary.doc2bow(data[idx]['code_tokens_split'])\n",
    "        corpus.append(temp)\n",
    "    return corpus"
   ]
  },
  {
   "cell_type": "code",
   "execution_count": 65,
   "metadata": {},
   "outputs": [],
   "source": [
    "data_dir = '/mnt/yuxuan/CodeSum/datapreprocess/CodeSearchNet/split_data/train/dataset_with_id_split_filter_all.pkl'\n",
    "data = pickle.load(open(data_dir,'rb'))"
   ]
  },
  {
   "cell_type": "code",
   "execution_count": 66,
   "metadata": {},
   "outputs": [
    {
     "data": {
      "text/plain": [
       "dict_keys(['repo', 'path', 'func_name', 'original_string', 'language', 'code', 'code_tokens', 'docstring', 'docstring_tokens', 'sha', 'url', 'partition', 'code_tokens_split', 'docstring_tokens_split'])"
      ]
     },
     "execution_count": 66,
     "metadata": {},
     "output_type": "execute_result"
    }
   ],
   "source": [
    "data[0].keys()"
   ]
  },
  {
   "cell_type": "code",
   "execution_count": 15,
   "metadata": {
    "scrolled": true
   },
   "outputs": [
    {
     "name": "stderr",
     "output_type": "stream",
     "text": [
      "INFO:gensim.corpora.dictionary:adding document #0 to Dictionary(0 unique tokens: [])\n",
      "INFO:gensim.corpora.dictionary:adding document #10000 to Dictionary(11172 unique tokens: ['&&', 'aggregate', 'bind', 'bindable', 'binder']...)\n",
      "INFO:gensim.corpora.dictionary:adding document #20000 to Dictionary(18988 unique tokens: ['&&', 'aggregate', 'bind', 'bindable', 'binder']...)\n",
      "INFO:gensim.corpora.dictionary:adding document #30000 to Dictionary(24832 unique tokens: ['&&', 'aggregate', 'bind', 'bindable', 'binder']...)\n",
      "INFO:gensim.corpora.dictionary:adding document #40000 to Dictionary(31725 unique tokens: ['&&', 'aggregate', 'bind', 'bindable', 'binder']...)\n",
      "INFO:gensim.corpora.dictionary:adding document #50000 to Dictionary(34872 unique tokens: ['&&', 'aggregate', 'bind', 'bindable', 'binder']...)\n",
      "INFO:gensim.corpora.dictionary:adding document #60000 to Dictionary(37075 unique tokens: ['&&', 'aggregate', 'bind', 'bindable', 'binder']...)\n",
      "INFO:gensim.corpora.dictionary:adding document #70000 to Dictionary(37448 unique tokens: ['&&', 'aggregate', 'bind', 'bindable', 'binder']...)\n",
      "INFO:gensim.corpora.dictionary:adding document #80000 to Dictionary(39529 unique tokens: ['&&', 'aggregate', 'bind', 'bindable', 'binder']...)\n",
      "INFO:gensim.corpora.dictionary:adding document #90000 to Dictionary(42960 unique tokens: ['&&', 'aggregate', 'bind', 'bindable', 'binder']...)\n",
      "INFO:gensim.corpora.dictionary:adding document #100000 to Dictionary(46778 unique tokens: ['&&', 'aggregate', 'bind', 'bindable', 'binder']...)\n",
      "INFO:gensim.corpora.dictionary:adding document #110000 to Dictionary(51769 unique tokens: ['&&', 'aggregate', 'bind', 'bindable', 'binder']...)\n",
      "INFO:gensim.corpora.dictionary:adding document #120000 to Dictionary(52724 unique tokens: ['&&', 'aggregate', 'bind', 'bindable', 'binder']...)\n",
      "INFO:gensim.corpora.dictionary:adding document #130000 to Dictionary(54953 unique tokens: ['&&', 'aggregate', 'bind', 'bindable', 'binder']...)\n",
      "INFO:gensim.corpora.dictionary:adding document #140000 to Dictionary(56932 unique tokens: ['&&', 'aggregate', 'bind', 'bindable', 'binder']...)\n",
      "INFO:gensim.corpora.dictionary:adding document #150000 to Dictionary(63149 unique tokens: ['&&', 'aggregate', 'bind', 'bindable', 'binder']...)\n",
      "INFO:gensim.corpora.dictionary:adding document #160000 to Dictionary(66903 unique tokens: ['&&', 'aggregate', 'bind', 'bindable', 'binder']...)\n",
      "INFO:gensim.corpora.dictionary:adding document #170000 to Dictionary(71976 unique tokens: ['&&', 'aggregate', 'bind', 'bindable', 'binder']...)\n",
      "INFO:gensim.corpora.dictionary:adding document #180000 to Dictionary(77194 unique tokens: ['&&', 'aggregate', 'bind', 'bindable', 'binder']...)\n",
      "INFO:gensim.corpora.dictionary:adding document #190000 to Dictionary(81080 unique tokens: ['&&', 'aggregate', 'bind', 'bindable', 'binder']...)\n",
      "INFO:gensim.corpora.dictionary:adding document #200000 to Dictionary(84336 unique tokens: ['&&', 'aggregate', 'bind', 'bindable', 'binder']...)\n",
      "INFO:gensim.corpora.dictionary:adding document #210000 to Dictionary(86679 unique tokens: ['&&', 'aggregate', 'bind', 'bindable', 'binder']...)\n",
      "INFO:gensim.corpora.dictionary:adding document #220000 to Dictionary(89431 unique tokens: ['&&', 'aggregate', 'bind', 'bindable', 'binder']...)\n",
      "INFO:gensim.corpora.dictionary:adding document #230000 to Dictionary(91700 unique tokens: ['&&', 'aggregate', 'bind', 'bindable', 'binder']...)\n",
      "INFO:gensim.corpora.dictionary:adding document #240000 to Dictionary(94432 unique tokens: ['&&', 'aggregate', 'bind', 'bindable', 'binder']...)\n",
      "INFO:gensim.corpora.dictionary:adding document #250000 to Dictionary(97936 unique tokens: ['&&', 'aggregate', 'bind', 'bindable', 'binder']...)\n",
      "INFO:gensim.corpora.dictionary:adding document #260000 to Dictionary(103105 unique tokens: ['&&', 'aggregate', 'bind', 'bindable', 'binder']...)\n",
      "INFO:gensim.corpora.dictionary:adding document #270000 to Dictionary(105823 unique tokens: ['&&', 'aggregate', 'bind', 'bindable', 'binder']...)\n",
      "INFO:gensim.corpora.dictionary:adding document #280000 to Dictionary(108549 unique tokens: ['&&', 'aggregate', 'bind', 'bindable', 'binder']...)\n",
      "INFO:gensim.corpora.dictionary:adding document #290000 to Dictionary(111092 unique tokens: ['&&', 'aggregate', 'bind', 'bindable', 'binder']...)\n",
      "INFO:gensim.corpora.dictionary:adding document #300000 to Dictionary(114056 unique tokens: ['&&', 'aggregate', 'bind', 'bindable', 'binder']...)\n",
      "INFO:gensim.corpora.dictionary:adding document #310000 to Dictionary(117978 unique tokens: ['&&', 'aggregate', 'bind', 'bindable', 'binder']...)\n",
      "INFO:gensim.corpora.dictionary:adding document #320000 to Dictionary(121151 unique tokens: ['&&', 'aggregate', 'bind', 'bindable', 'binder']...)\n",
      "INFO:gensim.corpora.dictionary:adding document #330000 to Dictionary(124406 unique tokens: ['&&', 'aggregate', 'bind', 'bindable', 'binder']...)\n",
      "INFO:gensim.corpora.dictionary:adding document #340000 to Dictionary(127628 unique tokens: ['&&', 'aggregate', 'bind', 'bindable', 'binder']...)\n",
      "INFO:gensim.corpora.dictionary:adding document #350000 to Dictionary(129672 unique tokens: ['&&', 'aggregate', 'bind', 'bindable', 'binder']...)\n",
      "INFO:gensim.corpora.dictionary:adding document #360000 to Dictionary(132495 unique tokens: ['&&', 'aggregate', 'bind', 'bindable', 'binder']...)\n",
      "INFO:gensim.corpora.dictionary:adding document #370000 to Dictionary(135396 unique tokens: ['&&', 'aggregate', 'bind', 'bindable', 'binder']...)\n",
      "INFO:gensim.corpora.dictionary:adding document #380000 to Dictionary(137824 unique tokens: ['&&', 'aggregate', 'bind', 'bindable', 'binder']...)\n",
      "INFO:gensim.corpora.dictionary:adding document #390000 to Dictionary(140015 unique tokens: ['&&', 'aggregate', 'bind', 'bindable', 'binder']...)\n",
      "INFO:gensim.corpora.dictionary:adding document #400000 to Dictionary(141526 unique tokens: ['&&', 'aggregate', 'bind', 'bindable', 'binder']...)\n",
      "INFO:gensim.corpora.dictionary:adding document #410000 to Dictionary(143507 unique tokens: ['&&', 'aggregate', 'bind', 'bindable', 'binder']...)\n",
      "INFO:gensim.corpora.dictionary:adding document #420000 to Dictionary(146258 unique tokens: ['&&', 'aggregate', 'bind', 'bindable', 'binder']...)\n",
      "INFO:gensim.corpora.dictionary:adding document #430000 to Dictionary(148231 unique tokens: ['&&', 'aggregate', 'bind', 'bindable', 'binder']...)\n",
      "INFO:gensim.corpora.dictionary:adding document #440000 to Dictionary(150090 unique tokens: ['&&', 'aggregate', 'bind', 'bindable', 'binder']...)\n",
      "INFO:gensim.corpora.dictionary:adding document #450000 to Dictionary(151588 unique tokens: ['&&', 'aggregate', 'bind', 'bindable', 'binder']...)\n",
      "INFO:gensim.corpora.dictionary:built Dictionary(152675 unique tokens: ['&&', 'aggregate', 'bind', 'bindable', 'binder']...) from 454451 documents (total 41238114 corpus positions)\n"
     ]
    }
   ],
   "source": [
    "dictionary = build_dictionary(data)"
   ]
  },
  {
   "cell_type": "code",
   "execution_count": 16,
   "metadata": {},
   "outputs": [
    {
     "data": {
      "text/plain": [
       "152675"
      ]
     },
     "execution_count": 16,
     "metadata": {},
     "output_type": "execute_result"
    }
   ],
   "source": [
    "len(dictionary)"
   ]
  },
  {
   "cell_type": "code",
   "execution_count": 56,
   "metadata": {},
   "outputs": [
    {
     "name": "stdout",
     "output_type": "stream",
     "text": [
      "&&\n",
      "aggregate\n",
      "bind\n",
      "bindable\n",
      "binder\n",
      "collection\n",
      "configuration\n",
      "context\n",
      "element\n",
      "final\n",
      "for\n",
      "get\n",
      "if\n",
      "indexed\n",
      "name\n",
      "null\n",
      "property\n",
      "protected\n",
      "resolvable\n",
      "result\n"
     ]
    }
   ],
   "source": [
    "for i in range(20):\n",
    "    print(dictionary[i])"
   ]
  },
  {
   "cell_type": "code",
   "execution_count": 57,
   "metadata": {},
   "outputs": [],
   "source": [
    "corpus = build_corpus(data, dictionary)"
   ]
  },
  {
   "cell_type": "code",
   "execution_count": 59,
   "metadata": {},
   "outputs": [
    {
     "data": {
      "text/plain": [
       "[(11, 1),\n",
       " (14, 1),\n",
       " (15, 2),\n",
       " (27, 1),\n",
       " (29, 2),\n",
       " (32, 1),\n",
       " (38, 2),\n",
       " (39, 2),\n",
       " (41, 1),\n",
       " (45, 2),\n",
       " (82, 2),\n",
       " (87, 4),\n",
       " (88, 7),\n",
       " (94, 1),\n",
       " (133, 1),\n",
       " (140, 1),\n",
       " (164, 1),\n",
       " (185, 1),\n",
       " (202, 2),\n",
       " (238, 2),\n",
       " (239, 1),\n",
       " (243, 1),\n",
       " (342, 2),\n",
       " (482, 1),\n",
       " (486, 3),\n",
       " (487, 1),\n",
       " (582, 1),\n",
       " (583, 1),\n",
       " (584, 1),\n",
       " (585, 1),\n",
       " (586, 3),\n",
       " (587, 1),\n",
       " (588, 1)]"
      ]
     },
     "execution_count": 59,
     "metadata": {},
     "output_type": "execute_result"
    }
   ],
   "source": [
    "corpus[0]"
   ]
  },
  {
   "cell_type": "code",
   "execution_count": 20,
   "metadata": {
    "scrolled": true
   },
   "outputs": [
    {
     "name": "stderr",
     "output_type": "stream",
     "text": [
      "INFO:gensim.models.tfidfmodel:collecting document frequencies\n",
      "INFO:gensim.models.tfidfmodel:PROGRESS: processing document #0\n",
      "INFO:gensim.models.tfidfmodel:PROGRESS: processing document #10000\n",
      "INFO:gensim.models.tfidfmodel:PROGRESS: processing document #20000\n",
      "INFO:gensim.models.tfidfmodel:PROGRESS: processing document #30000\n",
      "INFO:gensim.models.tfidfmodel:PROGRESS: processing document #40000\n",
      "INFO:gensim.models.tfidfmodel:PROGRESS: processing document #50000\n",
      "INFO:gensim.models.tfidfmodel:PROGRESS: processing document #60000\n",
      "INFO:gensim.models.tfidfmodel:PROGRESS: processing document #70000\n",
      "INFO:gensim.models.tfidfmodel:PROGRESS: processing document #80000\n",
      "INFO:gensim.models.tfidfmodel:PROGRESS: processing document #90000\n",
      "INFO:gensim.models.tfidfmodel:PROGRESS: processing document #100000\n",
      "INFO:gensim.models.tfidfmodel:PROGRESS: processing document #110000\n",
      "INFO:gensim.models.tfidfmodel:PROGRESS: processing document #120000\n",
      "INFO:gensim.models.tfidfmodel:PROGRESS: processing document #130000\n",
      "INFO:gensim.models.tfidfmodel:PROGRESS: processing document #140000\n",
      "INFO:gensim.models.tfidfmodel:PROGRESS: processing document #150000\n",
      "INFO:gensim.models.tfidfmodel:PROGRESS: processing document #160000\n",
      "INFO:gensim.models.tfidfmodel:PROGRESS: processing document #170000\n",
      "INFO:gensim.models.tfidfmodel:PROGRESS: processing document #180000\n",
      "INFO:gensim.models.tfidfmodel:PROGRESS: processing document #190000\n",
      "INFO:gensim.models.tfidfmodel:PROGRESS: processing document #200000\n",
      "INFO:gensim.models.tfidfmodel:PROGRESS: processing document #210000\n",
      "INFO:gensim.models.tfidfmodel:PROGRESS: processing document #220000\n",
      "INFO:gensim.models.tfidfmodel:PROGRESS: processing document #230000\n",
      "INFO:gensim.models.tfidfmodel:PROGRESS: processing document #240000\n",
      "INFO:gensim.models.tfidfmodel:PROGRESS: processing document #250000\n",
      "INFO:gensim.models.tfidfmodel:PROGRESS: processing document #260000\n",
      "INFO:gensim.models.tfidfmodel:PROGRESS: processing document #270000\n",
      "INFO:gensim.models.tfidfmodel:PROGRESS: processing document #280000\n",
      "INFO:gensim.models.tfidfmodel:PROGRESS: processing document #290000\n",
      "INFO:gensim.models.tfidfmodel:PROGRESS: processing document #300000\n",
      "INFO:gensim.models.tfidfmodel:PROGRESS: processing document #310000\n",
      "INFO:gensim.models.tfidfmodel:PROGRESS: processing document #320000\n",
      "INFO:gensim.models.tfidfmodel:PROGRESS: processing document #330000\n",
      "INFO:gensim.models.tfidfmodel:PROGRESS: processing document #340000\n",
      "INFO:gensim.models.tfidfmodel:PROGRESS: processing document #350000\n",
      "INFO:gensim.models.tfidfmodel:PROGRESS: processing document #360000\n",
      "INFO:gensim.models.tfidfmodel:PROGRESS: processing document #370000\n",
      "INFO:gensim.models.tfidfmodel:PROGRESS: processing document #380000\n",
      "INFO:gensim.models.tfidfmodel:PROGRESS: processing document #390000\n",
      "INFO:gensim.models.tfidfmodel:PROGRESS: processing document #400000\n",
      "INFO:gensim.models.tfidfmodel:PROGRESS: processing document #410000\n",
      "INFO:gensim.models.tfidfmodel:PROGRESS: processing document #420000\n",
      "INFO:gensim.models.tfidfmodel:PROGRESS: processing document #430000\n",
      "INFO:gensim.models.tfidfmodel:PROGRESS: processing document #440000\n",
      "INFO:gensim.models.tfidfmodel:PROGRESS: processing document #450000\n",
      "INFO:gensim.models.tfidfmodel:calculating IDF weights for 454451 documents and 152675 features (15122888 matrix non-zeros)\n"
     ]
    }
   ],
   "source": [
    "tfidf = models.TfidfModel(corpus)\n",
    "corpus_tfidf = tfidf[corpus]"
   ]
  },
  {
   "cell_type": "code",
   "execution_count": 21,
   "metadata": {
    "scrolled": true
   },
   "outputs": [
    {
     "name": "stderr",
     "output_type": "stream",
     "text": [
      "INFO:gensim.similarities.docsim:starting similarity index under ./\n",
      "INFO:gensim.similarities.docsim:PROGRESS: fresh_shard size=10000\n",
      "INFO:gensim.similarities.docsim:PROGRESS: fresh_shard size=20000\n",
      "INFO:gensim.similarities.docsim:PROGRESS: fresh_shard size=30000\n",
      "INFO:gensim.similarities.docsim:creating sparse index\n",
      "INFO:gensim.matutils:creating sparse matrix from corpus\n",
      "INFO:gensim.matutils:PROGRESS: at document #0/32768\n",
      "INFO:gensim.matutils:PROGRESS: at document #10000/32768\n",
      "INFO:gensim.matutils:PROGRESS: at document #20000/32768\n",
      "INFO:gensim.matutils:PROGRESS: at document #30000/32768\n",
      "INFO:gensim.similarities.docsim:created <32768x152675 sparse matrix of type '<class 'numpy.float32'>'\n",
      "\twith 1075932 stored elements in Compressed Sparse Row format>\n",
      "INFO:gensim.similarities.docsim:creating sparse shard #0\n",
      "INFO:gensim.similarities.docsim:saving index shard to ./.0\n",
      "INFO:gensim.utils:saving SparseMatrixSimilarity object under ./.0, separately None\n",
      "INFO:gensim.utils:saved ./.0\n",
      "INFO:gensim.utils:loading SparseMatrixSimilarity object from ./.0\n",
      "INFO:gensim.utils:loaded ./.0\n",
      "INFO:gensim.similarities.docsim:PROGRESS: fresh_shard size=0\n",
      "INFO:gensim.similarities.docsim:PROGRESS: fresh_shard size=10000\n",
      "INFO:gensim.similarities.docsim:PROGRESS: fresh_shard size=20000\n",
      "INFO:gensim.similarities.docsim:PROGRESS: fresh_shard size=30000\n",
      "INFO:gensim.similarities.docsim:creating sparse index\n",
      "INFO:gensim.matutils:creating sparse matrix from corpus\n",
      "INFO:gensim.matutils:PROGRESS: at document #0/32768\n",
      "INFO:gensim.matutils:PROGRESS: at document #10000/32768\n",
      "INFO:gensim.matutils:PROGRESS: at document #20000/32768\n",
      "INFO:gensim.matutils:PROGRESS: at document #30000/32768\n",
      "INFO:gensim.similarities.docsim:created <32768x152675 sparse matrix of type '<class 'numpy.float32'>'\n",
      "\twith 935687 stored elements in Compressed Sparse Row format>\n",
      "INFO:gensim.similarities.docsim:creating sparse shard #1\n",
      "INFO:gensim.similarities.docsim:saving index shard to ./.1\n",
      "INFO:gensim.utils:saving SparseMatrixSimilarity object under ./.1, separately None\n",
      "INFO:gensim.utils:saved ./.1\n",
      "INFO:gensim.utils:loading SparseMatrixSimilarity object from ./.1\n",
      "INFO:gensim.utils:loaded ./.1\n",
      "INFO:gensim.similarities.docsim:PROGRESS: fresh_shard size=0\n",
      "INFO:gensim.similarities.docsim:PROGRESS: fresh_shard size=10000\n",
      "INFO:gensim.similarities.docsim:PROGRESS: fresh_shard size=20000\n",
      "INFO:gensim.similarities.docsim:PROGRESS: fresh_shard size=30000\n",
      "INFO:gensim.similarities.docsim:creating sparse index\n",
      "INFO:gensim.matutils:creating sparse matrix from corpus\n",
      "INFO:gensim.matutils:PROGRESS: at document #0/32768\n",
      "INFO:gensim.matutils:PROGRESS: at document #10000/32768\n",
      "INFO:gensim.matutils:PROGRESS: at document #20000/32768\n",
      "INFO:gensim.matutils:PROGRESS: at document #30000/32768\n",
      "INFO:gensim.similarities.docsim:created <32768x152675 sparse matrix of type '<class 'numpy.float32'>'\n",
      "\twith 1029926 stored elements in Compressed Sparse Row format>\n",
      "INFO:gensim.similarities.docsim:creating sparse shard #2\n",
      "INFO:gensim.similarities.docsim:saving index shard to ./.2\n",
      "INFO:gensim.utils:saving SparseMatrixSimilarity object under ./.2, separately None\n",
      "INFO:gensim.utils:saved ./.2\n",
      "INFO:gensim.utils:loading SparseMatrixSimilarity object from ./.2\n",
      "INFO:gensim.utils:loaded ./.2\n",
      "INFO:gensim.similarities.docsim:PROGRESS: fresh_shard size=0\n",
      "INFO:gensim.similarities.docsim:PROGRESS: fresh_shard size=10000\n",
      "INFO:gensim.similarities.docsim:PROGRESS: fresh_shard size=20000\n",
      "INFO:gensim.similarities.docsim:PROGRESS: fresh_shard size=30000\n",
      "INFO:gensim.similarities.docsim:creating sparse index\n",
      "INFO:gensim.matutils:creating sparse matrix from corpus\n",
      "INFO:gensim.matutils:PROGRESS: at document #0/32768\n",
      "INFO:gensim.matutils:PROGRESS: at document #10000/32768\n",
      "INFO:gensim.matutils:PROGRESS: at document #20000/32768\n",
      "INFO:gensim.matutils:PROGRESS: at document #30000/32768\n",
      "INFO:gensim.similarities.docsim:created <32768x152675 sparse matrix of type '<class 'numpy.float32'>'\n",
      "\twith 1087105 stored elements in Compressed Sparse Row format>\n",
      "INFO:gensim.similarities.docsim:creating sparse shard #3\n",
      "INFO:gensim.similarities.docsim:saving index shard to ./.3\n",
      "INFO:gensim.utils:saving SparseMatrixSimilarity object under ./.3, separately None\n",
      "INFO:gensim.utils:saved ./.3\n",
      "INFO:gensim.utils:loading SparseMatrixSimilarity object from ./.3\n",
      "INFO:gensim.utils:loaded ./.3\n",
      "INFO:gensim.similarities.docsim:PROGRESS: fresh_shard size=0\n",
      "INFO:gensim.similarities.docsim:PROGRESS: fresh_shard size=10000\n",
      "INFO:gensim.similarities.docsim:PROGRESS: fresh_shard size=20000\n",
      "INFO:gensim.similarities.docsim:PROGRESS: fresh_shard size=30000\n",
      "INFO:gensim.similarities.docsim:creating sparse index\n",
      "INFO:gensim.matutils:creating sparse matrix from corpus\n",
      "INFO:gensim.matutils:PROGRESS: at document #0/32768\n",
      "INFO:gensim.matutils:PROGRESS: at document #10000/32768\n",
      "INFO:gensim.matutils:PROGRESS: at document #20000/32768\n",
      "INFO:gensim.matutils:PROGRESS: at document #30000/32768\n",
      "INFO:gensim.similarities.docsim:created <32768x152675 sparse matrix of type '<class 'numpy.float32'>'\n",
      "\twith 1161752 stored elements in Compressed Sparse Row format>\n",
      "INFO:gensim.similarities.docsim:creating sparse shard #4\n",
      "INFO:gensim.similarities.docsim:saving index shard to ./.4\n",
      "INFO:gensim.utils:saving SparseMatrixSimilarity object under ./.4, separately None\n",
      "INFO:gensim.utils:saved ./.4\n",
      "INFO:gensim.utils:loading SparseMatrixSimilarity object from ./.4\n",
      "INFO:gensim.utils:loaded ./.4\n",
      "INFO:gensim.similarities.docsim:PROGRESS: fresh_shard size=0\n",
      "INFO:gensim.similarities.docsim:PROGRESS: fresh_shard size=10000\n",
      "INFO:gensim.similarities.docsim:PROGRESS: fresh_shard size=20000\n",
      "INFO:gensim.similarities.docsim:PROGRESS: fresh_shard size=30000\n",
      "INFO:gensim.similarities.docsim:creating sparse index\n",
      "INFO:gensim.matutils:creating sparse matrix from corpus\n",
      "INFO:gensim.matutils:PROGRESS: at document #0/32768\n",
      "INFO:gensim.matutils:PROGRESS: at document #10000/32768\n",
      "INFO:gensim.matutils:PROGRESS: at document #20000/32768\n",
      "INFO:gensim.matutils:PROGRESS: at document #30000/32768\n",
      "INFO:gensim.similarities.docsim:created <32768x152675 sparse matrix of type '<class 'numpy.float32'>'\n",
      "\twith 1453980 stored elements in Compressed Sparse Row format>\n",
      "INFO:gensim.similarities.docsim:creating sparse shard #5\n",
      "INFO:gensim.similarities.docsim:saving index shard to ./.5\n",
      "INFO:gensim.utils:saving SparseMatrixSimilarity object under ./.5, separately None\n",
      "INFO:gensim.utils:saved ./.5\n",
      "INFO:gensim.utils:loading SparseMatrixSimilarity object from ./.5\n",
      "INFO:gensim.utils:loaded ./.5\n",
      "INFO:gensim.similarities.docsim:PROGRESS: fresh_shard size=0\n",
      "INFO:gensim.similarities.docsim:PROGRESS: fresh_shard size=10000\n",
      "INFO:gensim.similarities.docsim:PROGRESS: fresh_shard size=20000\n",
      "INFO:gensim.similarities.docsim:PROGRESS: fresh_shard size=30000\n",
      "INFO:gensim.similarities.docsim:creating sparse index\n",
      "INFO:gensim.matutils:creating sparse matrix from corpus\n",
      "INFO:gensim.matutils:PROGRESS: at document #0/32768\n",
      "INFO:gensim.matutils:PROGRESS: at document #10000/32768\n",
      "INFO:gensim.matutils:PROGRESS: at document #20000/32768\n",
      "INFO:gensim.matutils:PROGRESS: at document #30000/32768\n",
      "INFO:gensim.similarities.docsim:created <32768x152675 sparse matrix of type '<class 'numpy.float32'>'\n",
      "\twith 1178318 stored elements in Compressed Sparse Row format>\n",
      "INFO:gensim.similarities.docsim:creating sparse shard #6\n",
      "INFO:gensim.similarities.docsim:saving index shard to ./.6\n",
      "INFO:gensim.utils:saving SparseMatrixSimilarity object under ./.6, separately None\n",
      "INFO:gensim.utils:saved ./.6\n",
      "INFO:gensim.utils:loading SparseMatrixSimilarity object from ./.6\n",
      "INFO:gensim.utils:loaded ./.6\n",
      "INFO:gensim.similarities.docsim:PROGRESS: fresh_shard size=0\n",
      "INFO:gensim.similarities.docsim:PROGRESS: fresh_shard size=10000\n",
      "INFO:gensim.similarities.docsim:PROGRESS: fresh_shard size=20000\n",
      "INFO:gensim.similarities.docsim:PROGRESS: fresh_shard size=30000\n",
      "INFO:gensim.similarities.docsim:creating sparse index\n",
      "INFO:gensim.matutils:creating sparse matrix from corpus\n",
      "INFO:gensim.matutils:PROGRESS: at document #0/32768\n",
      "INFO:gensim.matutils:PROGRESS: at document #10000/32768\n",
      "INFO:gensim.matutils:PROGRESS: at document #20000/32768\n",
      "INFO:gensim.matutils:PROGRESS: at document #30000/32768\n",
      "INFO:gensim.similarities.docsim:created <32768x152675 sparse matrix of type '<class 'numpy.float32'>'\n",
      "\twith 1097380 stored elements in Compressed Sparse Row format>\n",
      "INFO:gensim.similarities.docsim:creating sparse shard #7\n",
      "INFO:gensim.similarities.docsim:saving index shard to ./.7\n",
      "INFO:gensim.utils:saving SparseMatrixSimilarity object under ./.7, separately None\n",
      "INFO:gensim.utils:saved ./.7\n",
      "INFO:gensim.utils:loading SparseMatrixSimilarity object from ./.7\n",
      "INFO:gensim.utils:loaded ./.7\n",
      "INFO:gensim.similarities.docsim:PROGRESS: fresh_shard size=0\n",
      "INFO:gensim.similarities.docsim:PROGRESS: fresh_shard size=10000\n",
      "INFO:gensim.similarities.docsim:PROGRESS: fresh_shard size=20000\n",
      "INFO:gensim.similarities.docsim:PROGRESS: fresh_shard size=30000\n",
      "INFO:gensim.similarities.docsim:creating sparse index\n",
      "INFO:gensim.matutils:creating sparse matrix from corpus\n",
      "INFO:gensim.matutils:PROGRESS: at document #0/32768\n",
      "INFO:gensim.matutils:PROGRESS: at document #10000/32768\n",
      "INFO:gensim.matutils:PROGRESS: at document #20000/32768\n",
      "INFO:gensim.matutils:PROGRESS: at document #30000/32768\n",
      "INFO:gensim.similarities.docsim:created <32768x152675 sparse matrix of type '<class 'numpy.float32'>'\n",
      "\twith 1089377 stored elements in Compressed Sparse Row format>\n",
      "INFO:gensim.similarities.docsim:creating sparse shard #8\n",
      "INFO:gensim.similarities.docsim:saving index shard to ./.8\n",
      "INFO:gensim.utils:saving SparseMatrixSimilarity object under ./.8, separately None\n",
      "INFO:gensim.utils:saved ./.8\n",
      "INFO:gensim.utils:loading SparseMatrixSimilarity object from ./.8\n",
      "INFO:gensim.utils:loaded ./.8\n",
      "INFO:gensim.similarities.docsim:PROGRESS: fresh_shard size=0\n",
      "INFO:gensim.similarities.docsim:PROGRESS: fresh_shard size=10000\n",
      "INFO:gensim.similarities.docsim:PROGRESS: fresh_shard size=20000\n",
      "INFO:gensim.similarities.docsim:PROGRESS: fresh_shard size=30000\n",
      "INFO:gensim.similarities.docsim:creating sparse index\n",
      "INFO:gensim.matutils:creating sparse matrix from corpus\n",
      "INFO:gensim.matutils:PROGRESS: at document #0/32768\n",
      "INFO:gensim.matutils:PROGRESS: at document #10000/32768\n",
      "INFO:gensim.matutils:PROGRESS: at document #20000/32768\n",
      "INFO:gensim.matutils:PROGRESS: at document #30000/32768\n",
      "INFO:gensim.similarities.docsim:created <32768x152675 sparse matrix of type '<class 'numpy.float32'>'\n",
      "\twith 1100143 stored elements in Compressed Sparse Row format>\n",
      "INFO:gensim.similarities.docsim:creating sparse shard #9\n",
      "INFO:gensim.similarities.docsim:saving index shard to ./.9\n",
      "INFO:gensim.utils:saving SparseMatrixSimilarity object under ./.9, separately None\n",
      "INFO:gensim.utils:saved ./.9\n",
      "INFO:gensim.utils:loading SparseMatrixSimilarity object from ./.9\n",
      "INFO:gensim.utils:loaded ./.9\n",
      "INFO:gensim.similarities.docsim:PROGRESS: fresh_shard size=0\n",
      "INFO:gensim.similarities.docsim:PROGRESS: fresh_shard size=10000\n",
      "INFO:gensim.similarities.docsim:PROGRESS: fresh_shard size=20000\n",
      "INFO:gensim.similarities.docsim:PROGRESS: fresh_shard size=30000\n",
      "INFO:gensim.similarities.docsim:creating sparse index\n",
      "INFO:gensim.matutils:creating sparse matrix from corpus\n",
      "INFO:gensim.matutils:PROGRESS: at document #0/32768\n",
      "INFO:gensim.matutils:PROGRESS: at document #10000/32768\n",
      "INFO:gensim.matutils:PROGRESS: at document #20000/32768\n",
      "INFO:gensim.matutils:PROGRESS: at document #30000/32768\n",
      "INFO:gensim.similarities.docsim:created <32768x152675 sparse matrix of type '<class 'numpy.float32'>'\n",
      "\twith 1032326 stored elements in Compressed Sparse Row format>\n",
      "INFO:gensim.similarities.docsim:creating sparse shard #10\n",
      "INFO:gensim.similarities.docsim:saving index shard to ./.10\n",
      "INFO:gensim.utils:saving SparseMatrixSimilarity object under ./.10, separately None\n",
      "INFO:gensim.utils:saved ./.10\n",
      "INFO:gensim.utils:loading SparseMatrixSimilarity object from ./.10\n",
      "INFO:gensim.utils:loaded ./.10\n",
      "INFO:gensim.similarities.docsim:PROGRESS: fresh_shard size=0\n",
      "INFO:gensim.similarities.docsim:PROGRESS: fresh_shard size=10000\n",
      "INFO:gensim.similarities.docsim:PROGRESS: fresh_shard size=20000\n",
      "INFO:gensim.similarities.docsim:PROGRESS: fresh_shard size=30000\n",
      "INFO:gensim.similarities.docsim:creating sparse index\n",
      "INFO:gensim.matutils:creating sparse matrix from corpus\n",
      "INFO:gensim.matutils:PROGRESS: at document #0/32768\n",
      "INFO:gensim.matutils:PROGRESS: at document #10000/32768\n",
      "INFO:gensim.matutils:PROGRESS: at document #20000/32768\n",
      "INFO:gensim.matutils:PROGRESS: at document #30000/32768\n",
      "INFO:gensim.similarities.docsim:created <32768x152675 sparse matrix of type '<class 'numpy.float32'>'\n",
      "\twith 996919 stored elements in Compressed Sparse Row format>\n",
      "INFO:gensim.similarities.docsim:creating sparse shard #11\n",
      "INFO:gensim.similarities.docsim:saving index shard to ./.11\n",
      "INFO:gensim.utils:saving SparseMatrixSimilarity object under ./.11, separately None\n",
      "INFO:gensim.utils:saved ./.11\n",
      "INFO:gensim.utils:loading SparseMatrixSimilarity object from ./.11\n",
      "INFO:gensim.utils:loaded ./.11\n",
      "INFO:gensim.similarities.docsim:PROGRESS: fresh_shard size=0\n",
      "INFO:gensim.similarities.docsim:PROGRESS: fresh_shard size=10000\n",
      "INFO:gensim.similarities.docsim:PROGRESS: fresh_shard size=20000\n",
      "INFO:gensim.similarities.docsim:PROGRESS: fresh_shard size=30000\n",
      "INFO:gensim.similarities.docsim:creating sparse index\n",
      "INFO:gensim.matutils:creating sparse matrix from corpus\n",
      "INFO:gensim.matutils:PROGRESS: at document #0/32768\n",
      "INFO:gensim.matutils:PROGRESS: at document #10000/32768\n",
      "INFO:gensim.matutils:PROGRESS: at document #20000/32768\n",
      "INFO:gensim.matutils:PROGRESS: at document #30000/32768\n",
      "INFO:gensim.similarities.docsim:created <32768x152675 sparse matrix of type '<class 'numpy.float32'>'\n",
      "\twith 1017015 stored elements in Compressed Sparse Row format>\n",
      "INFO:gensim.similarities.docsim:creating sparse shard #12\n",
      "INFO:gensim.similarities.docsim:saving index shard to ./.12\n",
      "INFO:gensim.utils:saving SparseMatrixSimilarity object under ./.12, separately None\n",
      "INFO:gensim.utils:saved ./.12\n",
      "INFO:gensim.utils:loading SparseMatrixSimilarity object from ./.12\n",
      "INFO:gensim.utils:loaded ./.12\n",
      "INFO:gensim.similarities.docsim:PROGRESS: fresh_shard size=0\n",
      "INFO:gensim.similarities.docsim:PROGRESS: fresh_shard size=10000\n",
      "INFO:gensim.similarities.docsim:PROGRESS: fresh_shard size=20000\n"
     ]
    }
   ],
   "source": [
    "similarity_tfidf = similarities.Similarity('./', tfidf[corpus], len(dictionary), num_best=5) "
   ]
  },
  {
   "cell_type": "code",
   "execution_count": 62,
   "metadata": {},
   "outputs": [
    {
     "data": {
      "text/plain": [
       "<gensim.similarities.docsim.Similarity at 0x7fa220f4e550>"
      ]
     },
     "execution_count": 62,
     "metadata": {},
     "output_type": "execute_result"
    }
   ],
   "source": [
    "similarity_tfidf"
   ]
  },
  {
   "cell_type": "code",
   "execution_count": 22,
   "metadata": {},
   "outputs": [],
   "source": [
    "test_data_dir = '/mnt/yuxuan/CodeSum/datapreprocess/CodeSearchNet/split_data/test/dataset_with_id_split_filter_all.pkl'\n",
    "test_data = pickle.load(open(test_data_dir,'rb'))"
   ]
  },
  {
   "cell_type": "code",
   "execution_count": 61,
   "metadata": {},
   "outputs": [
    {
     "data": {
      "text/plain": [
       "[(11, 0.014292440625428966),\n",
       " (14, 0.03879534312727269),\n",
       " (15, 0.04208235832646852),\n",
       " (27, 0.02932166960538554),\n",
       " (29, 0.06501885914228073),\n",
       " (32, 0.10954190130516676),\n",
       " (38, 0.03446610717392781),\n",
       " (39, 0.10773851618884209),\n",
       " (41, 0.0071582616020921),\n",
       " (45, 0.08191306672505413),\n",
       " (82, 0.10302387204463252),\n",
       " (87, 0.41740715172631676),\n",
       " (88, 0.18712241645122626),\n",
       " (94, 0.047499820653863906),\n",
       " (133, 0.061255556742430786),\n",
       " (140, 0.04087626592223499),\n",
       " (164, 0.05002903500264754),\n",
       " (185, 0.060089777529533206),\n",
       " (202, 0.2353512689020917),\n",
       " (238, 0.2826717136886793),\n",
       " (239, 0.12076706460857194),\n",
       " (243, 0.09731931082985326),\n",
       " (342, 0.09118161612378478),\n",
       " (482, 0.12721017945132576),\n",
       " (486, 0.30992741007450625),\n",
       " (487, 0.1575175855656529),\n",
       " (582, 0.251126321147546),\n",
       " (583, 0.11352087217709116),\n",
       " (584, 0.0898284162430138),\n",
       " (585, 0.07418159900085182),\n",
       " (586, 0.5125218420485981),\n",
       " (587, 0.2111633274989224),\n",
       " (588, 0.15723070745756104)]"
      ]
     },
     "execution_count": 61,
     "metadata": {},
     "output_type": "execute_result"
    }
   ],
   "source": [
    "corpus_tfidf[100]"
   ]
  },
  {
   "cell_type": "code",
   "execution_count": 43,
   "metadata": {},
   "outputs": [],
   "source": [
    "test_corpus = build_corpus(test_data, dictionary)"
   ]
  },
  {
   "cell_type": "code",
   "execution_count": 45,
   "metadata": {},
   "outputs": [
    {
     "data": {
      "text/plain": [
       "[(0, 1),\n",
       " (9, 3),\n",
       " (11, 1),\n",
       " (12, 4),\n",
       " (17, 1),\n",
       " (20, 2),\n",
       " (27, 1),\n",
       " (44, 1),\n",
       " (45, 1),\n",
       " (67, 2),\n",
       " (68, 1),\n",
       " (70, 1),\n",
       " (76, 1),\n",
       " (80, 1),\n",
       " (95, 1),\n",
       " (98, 1),\n",
       " (148, 1),\n",
       " (149, 4),\n",
       " (207, 1),\n",
       " (229, 2),\n",
       " (253, 1),\n",
       " (322, 3),\n",
       " (485, 2),\n",
       " (685, 1),\n",
       " (721, 2),\n",
       " (990, 1),\n",
       " (1340, 3),\n",
       " (1407, 2),\n",
       " (1859, 1),\n",
       " (1995, 5),\n",
       " (2034, 1),\n",
       " (2734, 2),\n",
       " (3455, 1),\n",
       " (3476, 1),\n",
       " (3756, 1),\n",
       " (4271, 4),\n",
       " (5779, 1),\n",
       " (5829, 2),\n",
       " (5994, 1),\n",
       " (6240, 1),\n",
       " (17313, 3),\n",
       " (24838, 2)]"
      ]
     },
     "execution_count": 45,
     "metadata": {},
     "output_type": "execute_result"
    }
   ],
   "source": [
    "test_corpus[0]"
   ]
  },
  {
   "cell_type": "code",
   "execution_count": 46,
   "metadata": {},
   "outputs": [],
   "source": [
    "refs = []\n",
    "cands = []\n",
    "for i in range(len(test_corpus)):\n",
    "    top_k_sim = similarity_tfidf[tfidf[test_corpus[i]]]\n",
    "    pred_id = top_k_sim[0][0]\n",
    "    pred = data[pred_id]['docstring_tokens_split']\n",
    "    ref = test_data[469779+i]['docstring_tokens_split']\n",
    "    cands.append(pred)\n",
    "    refs.append([ref])"
   ]
  },
  {
   "cell_type": "code",
   "execution_count": 47,
   "metadata": {},
   "outputs": [],
   "source": [
    "from nltk.translate.bleu_score import corpus_bleu, SmoothingFunction"
   ]
  },
  {
   "cell_type": "code",
   "execution_count": 48,
   "metadata": {},
   "outputs": [],
   "source": [
    "Ba = corpus_bleu(refs,cands)"
   ]
  },
  {
   "cell_type": "code",
   "execution_count": 49,
   "metadata": {},
   "outputs": [
    {
     "data": {
      "text/plain": [
       "0.12004118188361063"
      ]
     },
     "execution_count": 49,
     "metadata": {},
     "output_type": "execute_result"
    }
   ],
   "source": [
    "Ba"
   ]
  },
  {
   "cell_type": "code",
   "execution_count": 29,
   "metadata": {
    "scrolled": true
   },
   "outputs": [
    {
     "name": "stderr",
     "output_type": "stream",
     "text": [
      "INFO:gensim.similarities.docsim:creating sparse index\n",
      "INFO:gensim.matutils:creating sparse matrix from corpus\n",
      "INFO:gensim.matutils:PROGRESS: at document #0/28467\n",
      "INFO:gensim.matutils:PROGRESS: at document #10000/28467\n",
      "INFO:gensim.matutils:PROGRESS: at document #20000/28467\n",
      "INFO:gensim.similarities.docsim:created <28467x152675 sparse matrix of type '<class 'numpy.float32'>'\n",
      "\twith 867028 stored elements in Compressed Sparse Row format>\n",
      "INFO:gensim.similarities.docsim:creating sparse shard #13\n",
      "INFO:gensim.similarities.docsim:saving index shard to ./.13\n",
      "INFO:gensim.utils:saving SparseMatrixSimilarity object under ./.13, separately None\n",
      "INFO:gensim.utils:saved ./.13\n",
      "INFO:gensim.utils:loading SparseMatrixSimilarity object from ./.13\n",
      "INFO:gensim.utils:loaded ./.13\n"
     ]
    },
    {
     "data": {
      "text/plain": [
       "[(377827, 0.4625426232814789),\n",
       " (377543, 0.44042864441871643),\n",
       " (430159, 0.41700756549835205),\n",
       " (430160, 0.41392114758491516),\n",
       " (451837, 0.41100168228149414)]"
      ]
     },
     "execution_count": 29,
     "metadata": {},
     "output_type": "execute_result"
    }
   ],
   "source": [
    "similarity_tfidf[tfidf[test_corpus]]"
   ]
  },
  {
   "cell_type": "code",
   "execution_count": 30,
   "metadata": {},
   "outputs": [
    {
     "data": {
      "text/plain": [
       "dict_keys(['repo', 'path', 'func_name', 'original_string', 'language', 'code', 'code_tokens', 'docstring', 'docstring_tokens', 'sha', 'url', 'partition', 'code_tokens_split', 'docstring_tokens_split'])"
      ]
     },
     "execution_count": 30,
     "metadata": {},
     "output_type": "execute_result"
    }
   ],
   "source": [
    "data[0].keys()"
   ]
  },
  {
   "cell_type": "code",
   "execution_count": 41,
   "metadata": {},
   "outputs": [
    {
     "data": {
      "text/plain": [
       "['makes', 'sure', 'the', 'fast', 'path', 'emits', 'in', 'order']"
      ]
     },
     "execution_count": 41,
     "metadata": {},
     "output_type": "execute_result"
    }
   ],
   "source": [
    "pred = data[377543]['docstring_tokens_split']\n",
    "ref = test_data[469779]['docstring_tokens_split']\n",
    "ref"
   ]
  },
  {
   "cell_type": "code",
   "execution_count": 42,
   "metadata": {},
   "outputs": [
    {
     "data": {
      "text/plain": [
       "['set', 'default', 'queue', 's', 'event', 'observer']"
      ]
     },
     "execution_count": 42,
     "metadata": {},
     "output_type": "execute_result"
    }
   ],
   "source": [
    "pred"
   ]
  },
  {
   "cell_type": "code",
   "execution_count": null,
   "metadata": {},
   "outputs": [],
   "source": []
  }
 ],
 "metadata": {
  "kernelspec": {
   "display_name": "Python 3",
   "language": "python",
   "name": "python3"
  },
  "language_info": {
   "codemirror_mode": {
    "name": "ipython",
    "version": 3
   },
   "file_extension": ".py",
   "mimetype": "text/x-python",
   "name": "python",
   "nbconvert_exporter": "python",
   "pygments_lexer": "ipython3",
   "version": "3.7.4"
  }
 },
 "nbformat": 4,
 "nbformat_minor": 2
}
