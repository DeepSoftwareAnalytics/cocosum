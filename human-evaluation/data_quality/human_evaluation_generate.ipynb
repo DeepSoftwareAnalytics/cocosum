{
 "cells": [
  {
   "cell_type": "code",
   "execution_count": 1,
   "id": "7aab1bd6",
   "metadata": {},
   "outputs": [],
   "source": [
    "import json"
   ]
  },
  {
   "cell_type": "code",
   "execution_count": 2,
   "id": "d79bddaa",
   "metadata": {},
   "outputs": [],
   "source": [
    "import pickle"
   ]
  },
  {
   "cell_type": "markdown",
   "id": "122dc12d",
   "metadata": {},
   "source": [
    "## full data"
   ]
  },
  {
   "cell_type": "code",
   "execution_count": 9,
   "id": "c89893fe",
   "metadata": {},
   "outputs": [],
   "source": [
    "csn_filename = \"/home/v-ensh/sciteamdrive2/v-ensh/workspace/SE_Data/data_about_task/codesearch/csn/full/codesearchnet.pkl\""
   ]
  },
  {
   "cell_type": "code",
   "execution_count": 10,
   "id": "6e5a6010",
   "metadata": {},
   "outputs": [],
   "source": [
    "csn = pickle.load(open(csn_filename,\"rb\"))"
   ]
  },
  {
   "cell_type": "code",
   "execution_count": 16,
   "id": "038f43c2",
   "metadata": {},
   "outputs": [],
   "source": [
    "full_data_fid ={}\n",
    "for part in csn:\n",
    "    full_data_fid[part] = list(csn[part])"
   ]
  },
  {
   "cell_type": "code",
   "execution_count": 38,
   "id": "50efbabd",
   "metadata": {
    "scrolled": true
   },
   "outputs": [
    {
     "data": {
      "text/plain": [
       "{'repo': 'spring-projects/spring-boot',\n",
       " 'path': 'spring-boot-project/spring-boot/src/main/java/org/springframework/boot/web/servlet/AbstractFilterRegistrationBean.java',\n",
       " 'func_name': 'AbstractFilterRegistrationBean.setServletRegistrationBeans',\n",
       " 'original_string': 'public void setServletRegistrationBeans(\\n\\t\\t\\tCollection<? extends ServletRegistrationBean<?>> servletRegistrationBeans) {\\n\\t\\tAssert.notNull(servletRegistrationBeans,\\n\\t\\t\\t\\t\"ServletRegistrationBeans must not be null\");\\n\\t\\tthis.servletRegistrationBeans = new LinkedHashSet<>(servletRegistrationBeans);\\n\\t}',\n",
       " 'language': 'java',\n",
       " 'code': 'public void setServletRegistrationBeans(\\n\\t\\t\\tCollection<? extends ServletRegistrationBean<?>> servletRegistrationBeans) {\\n\\t\\tAssert.notNull(servletRegistrationBeans,\\n\\t\\t\\t\\t\"ServletRegistrationBeans must not be null\");\\n\\t\\tthis.servletRegistrationBeans = new LinkedHashSet<>(servletRegistrationBeans);\\n\\t}',\n",
       " 'code_tokens': ['public',\n",
       "  'void',\n",
       "  'setServletRegistrationBeans',\n",
       "  '(',\n",
       "  'Collection',\n",
       "  '<',\n",
       "  '?',\n",
       "  'extends',\n",
       "  'ServletRegistrationBean',\n",
       "  '<',\n",
       "  '?',\n",
       "  '>',\n",
       "  '>',\n",
       "  'servletRegistrationBeans',\n",
       "  ')',\n",
       "  '{',\n",
       "  'Assert',\n",
       "  '.',\n",
       "  'notNull',\n",
       "  '(',\n",
       "  'servletRegistrationBeans',\n",
       "  ',',\n",
       "  '\"ServletRegistrationBeans must not be null\"',\n",
       "  ')',\n",
       "  ';',\n",
       "  'this',\n",
       "  '.',\n",
       "  'servletRegistrationBeans',\n",
       "  '=',\n",
       "  'new',\n",
       "  'LinkedHashSet',\n",
       "  '<>',\n",
       "  '(',\n",
       "  'servletRegistrationBeans',\n",
       "  ')',\n",
       "  ';',\n",
       "  '}'],\n",
       " 'docstring': 'Set {@link ServletRegistrationBean}s that the filter will be registered against.\\n@param servletRegistrationBeans the Servlet registration beans',\n",
       " 'docstring_tokens': ['Set', '{'],\n",
       " 'sha': '0b27f7c70e164b2b1a96477f1d9c1acba56790c1',\n",
       " 'url': 'https://github.com/spring-projects/spring-boot/blob/0b27f7c70e164b2b1a96477f1d9c1acba56790c1/spring-boot-project/spring-boot/src/main/java/org/springframework/boot/web/servlet/AbstractFilterRegistrationBean.java#L75-L80',\n",
       " 'partition': 'train'}"
      ]
     },
     "execution_count": 38,
     "metadata": {},
     "output_type": "execute_result"
    }
   ],
   "source": [
    " csn[\"train\"][1]"
   ]
  },
  {
   "cell_type": "markdown",
   "id": "e9a0acae",
   "metadata": {},
   "source": [
    "## clean data"
   ]
  },
  {
   "cell_type": "code",
   "execution_count": 11,
   "id": "f8fc544f",
   "metadata": {},
   "outputs": [],
   "source": [
    "import json"
   ]
  },
  {
   "cell_type": "code",
   "execution_count": 13,
   "id": "81d2edce",
   "metadata": {},
   "outputs": [],
   "source": [
    "csn_filename = \"/home/v-ensh/workspace/CodeSum/human-evaluation/data_quality/graphcodebert_fid.json\"\n",
    "with open(csn_filename ,\"r\") as f:\n",
    "    clean_data_fid = json.load(f)"
   ]
  },
  {
   "cell_type": "code",
   "execution_count": 18,
   "id": "2607175b",
   "metadata": {},
   "outputs": [
    {
     "data": {
      "text/plain": [
       "int"
      ]
     },
     "execution_count": 18,
     "metadata": {},
     "output_type": "execute_result"
    }
   ],
   "source": [
    "  type(clean_data_fid[\"train\"][2]) "
   ]
  },
  {
   "cell_type": "markdown",
   "id": "b464b561",
   "metadata": {},
   "source": [
    "## random select"
   ]
  },
  {
   "cell_type": "code",
   "execution_count": 20,
   "id": "4e196198",
   "metadata": {},
   "outputs": [],
   "source": [
    "import random\n",
    "from random import sample\n",
    "random.seed(10)\n",
    "sample_full_data_fid = sample(full_data_fid[\"train\"] , 100)\n",
    "random.seed(1)\n",
    "sample_clean_data_fid = sample(clean_data_fid[\"train\"] , 100)\n"
   ]
  },
  {
   "cell_type": "code",
   "execution_count": 35,
   "id": "f94367e5",
   "metadata": {},
   "outputs": [],
   "source": [
    "from itertools import chain\n",
    "sample_fids  = list(chain(*zip(sample_full_data_fid , sample_clean_data_fid )))"
   ]
  },
  {
   "cell_type": "code",
   "execution_count": 36,
   "id": "422f84e2",
   "metadata": {},
   "outputs": [
    {
     "data": {
      "text/plain": [
       "200"
      ]
     },
     "execution_count": 36,
     "metadata": {},
     "output_type": "execute_result"
    }
   ],
   "source": [
    "len(sample_fids )"
   ]
  },
  {
   "cell_type": "markdown",
   "id": "35789ed6",
   "metadata": {},
   "source": [
    "## generated java files"
   ]
  },
  {
   "cell_type": "code",
   "execution_count": 32,
   "id": "74a4f7d7",
   "metadata": {},
   "outputs": [],
   "source": [
    "import os\n",
    "def write_source_code_to_java_file(data_dir, method_id, method):\n",
    "    if not os.path.exists(data_dir):\n",
    "        os.makedirs(data_dir)\n",
    "    java_path = os.path.join(data_dir, str(method_id) + \".java\")\n",
    "    with open(java_path, \"w\") as f:\n",
    "        f.write(method)\n",
    "    return java_path"
   ]
  },
  {
   "cell_type": "code",
   "execution_count": 33,
   "id": "f373aa71",
   "metadata": {},
   "outputs": [],
   "source": [
    "data_dir=\"java_files\"\n",
    "url_prodfix=\"https://github.com/YanlinWang/CodeSum/tree/master/human-evaluation/data_quality/java_files/\""
   ]
  },
  {
   "cell_type": "code",
   "execution_count": 43,
   "id": "da14ecf0",
   "metadata": {},
   "outputs": [],
   "source": [
    "output_results= [\"Code Summarization Human Evaluation (TOSEM2021) \\n \"]\n",
    "scores = \"0  1  2  3  4\"\n",
    "aspects = \"informative \\n naturalness \\n\\n\"\n",
    "for i, fid in enumerate( sample_fids ) :\n",
    "    write_source_code_to_java_file(data_dir, fid, csn[\"train\"][fid][\"code\"])\n",
    "    output_results.append(\"URL: \\t %s [段落说明]  \\n \" %(url_prodfix + \"%s.java\"%(str(fid))))\n",
    "    output_results.append(\"Generated Summary 1 : %s [矩阵题] \\n %s \\n %s \\n \" %(\" \".join(  csn[\"train\"][fid][\"docstring_tokens\"]), scores,aspects ))\n",
    "with open(\"./human_evaluation_200_samples_问卷星(TOSEM2021).txt\", \"w\",encoding=\"utf-8\") as output:\n",
    "    for line in output_results:\n",
    "        output.write(line + \"\\n\")    "
   ]
  },
  {
   "cell_type": "code",
   "execution_count": 42,
   "id": "cc09b429",
   "metadata": {
    "scrolled": false
   },
   "outputs": [],
   "source": []
  },
  {
   "cell_type": "code",
   "execution_count": null,
   "id": "75c61164",
   "metadata": {},
   "outputs": [],
   "source": []
  },
  {
   "cell_type": "code",
   "execution_count": null,
   "id": "853a53fb",
   "metadata": {},
   "outputs": [],
   "source": []
  },
  {
   "cell_type": "code",
   "execution_count": 28,
   "id": "fa4c547f",
   "metadata": {},
   "outputs": [
    {
     "data": {
      "text/plain": [
       "[1, 2, 3, 4, 5, 6, 'a', 'b', 'c', 'd', 'e']"
      ]
     },
     "execution_count": 28,
     "metadata": {},
     "output_type": "execute_result"
    }
   ],
   "source": [
    "a = [1, 2, 3, 4, 5, 6]\n",
    "b = ['a', 'b', 'c', 'd', 'e']\n",
    "from itertools import chain\n",
    "list(chain(a,b))"
   ]
  },
  {
   "cell_type": "code",
   "execution_count": 29,
   "id": "57d53885",
   "metadata": {},
   "outputs": [
    {
     "data": {
      "text/plain": [
       "[1, 'a', 2, 'b', 3, 'c', 4, 'd', 5, 'e']"
      ]
     },
     "execution_count": 29,
     "metadata": {},
     "output_type": "execute_result"
    }
   ],
   "source": [
    "list(chain(*zip(a, b)))"
   ]
  },
  {
   "cell_type": "code",
   "execution_count": null,
   "id": "29be8630",
   "metadata": {},
   "outputs": [],
   "source": []
  },
  {
   "cell_type": "code",
   "execution_count": null,
   "id": "de0cebc1",
   "metadata": {},
   "outputs": [],
   "source": [
    "sample_fids = sample_full_data_fid +  sample_clean_data_fid "
   ]
  },
  {
   "cell_type": "code",
   "execution_count": 21,
   "id": "ecc5ded6",
   "metadata": {
    "scrolled": true
   },
   "outputs": [
    {
     "data": {
      "text/plain": [
       "[240472,\n",
       " 233889,\n",
       " 310485,\n",
       " 184585,\n",
       " 136960,\n",
       " 295629,\n",
       " 86138,\n",
       " 280244,\n",
       " 445129,\n",
       " 1295,\n",
       " 122526,\n",
       " 291659,\n",
       " 375146,\n",
       " 90849,\n",
       " 71511,\n",
       " 165948,\n",
       " 361644,\n",
       " 84305,\n",
       " 191556,\n",
       " 15249,\n",
       " 156680,\n",
       " 127908,\n",
       " 342661,\n",
       " 376674,\n",
       " 371337,\n",
       " 373240,\n",
       " 416332,\n",
       " 365023,\n",
       " 446247,\n",
       " 5789,\n",
       " 112413,\n",
       " 375507,\n",
       " 408051,\n",
       " 11682,\n",
       " 78377,\n",
       " 295769,\n",
       " 212944,\n",
       " 18677,\n",
       " 421101,\n",
       " 16807,\n",
       " 9855,\n",
       " 272441,\n",
       " 204429,\n",
       " 370798,\n",
       " 107973,\n",
       " 224924,\n",
       " 126674,\n",
       " 34021,\n",
       " 209793,\n",
       " 142660,\n",
       " 352505,\n",
       " 298533,\n",
       " 112410,\n",
       " 395867,\n",
       " 37913,\n",
       " 333261,\n",
       " 201456,\n",
       " 154470,\n",
       " 297786,\n",
       " 391279,\n",
       " 92696,\n",
       " 155556,\n",
       " 380198,\n",
       " 286444,\n",
       " 25460,\n",
       " 99292,\n",
       " 106762,\n",
       " 266052,\n",
       " 435755,\n",
       " 210888,\n",
       " 441577,\n",
       " 325205,\n",
       " 78958,\n",
       " 396205,\n",
       " 130601,\n",
       " 260211,\n",
       " 404339,\n",
       " 92649,\n",
       " 438381,\n",
       " 292706,\n",
       " 375806,\n",
       " 278368,\n",
       " 388092,\n",
       " 336704,\n",
       " 170788,\n",
       " 157921,\n",
       " 239524,\n",
       " 92826,\n",
       " 264530,\n",
       " 263659,\n",
       " 299449,\n",
       " 14311,\n",
       " 366256,\n",
       " 45097,\n",
       " 415249,\n",
       " 210695,\n",
       " 17973,\n",
       " 99380,\n",
       " 400339,\n",
       " 420086]"
      ]
     },
     "execution_count": 21,
     "metadata": {},
     "output_type": "execute_result"
    }
   ],
   "source": [
    "sample_clean_data_fid "
   ]
  },
  {
   "cell_type": "code",
   "execution_count": null,
   "id": "6f29db4d",
   "metadata": {},
   "outputs": [],
   "source": []
  },
  {
   "cell_type": "code",
   "execution_count": null,
   "id": "8c21fe85",
   "metadata": {},
   "outputs": [],
   "source": []
  },
  {
   "cell_type": "code",
   "execution_count": null,
   "id": "915fbc4d",
   "metadata": {},
   "outputs": [],
   "source": []
  },
  {
   "cell_type": "code",
   "execution_count": null,
   "id": "99498deb",
   "metadata": {},
   "outputs": [],
   "source": []
  }
 ],
 "metadata": {
  "kernelspec": {
   "display_name": "Python 3",
   "language": "python",
   "name": "python3"
  },
  "language_info": {
   "codemirror_mode": {
    "name": "ipython",
    "version": 3
   },
   "file_extension": ".py",
   "mimetype": "text/x-python",
   "name": "python",
   "nbconvert_exporter": "python",
   "pygments_lexer": "ipython3",
   "version": "3.8.8"
  }
 },
 "nbformat": 4,
 "nbformat_minor": 5
}
